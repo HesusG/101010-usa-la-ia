{
 "cells": [
  {
   "cell_type": "markdown",
   "metadata": {},
   "source": [
    "# 🌟 IA Clásica: Regresión Logística y Visualización\n",
    "\n",
    "Este notebook muestra cómo utilizar modelos clásicos de machine learning para tareas de clasificación, usando como ejemplo el famoso dataset Iris.\n",
    "\n",
    "## ¿Qué aprenderás?\n",
    "- 📊 Cargar y visualizar datos con Seaborn\n",
    "- 🧮 Entrenar un modelo de regresión logística\n",
    "- 🔍 Interpretar los resultados visualmente\n",
    "- 💼 Entender aplicaciones prácticas"
   ]
  },
  {
   "cell_type": "markdown",
   "metadata": {},
   "source": [
    "## 📚 Importamos las bibliotecas necesarias"
   ]
  },
  {
   "cell_type": "code",
   "execution_count": null,
   "metadata": {},
   "source": [
    "# Bibliotecas esenciales\n",
    "import numpy as np\n",
    "import pandas as pd\n",
    "import matplotlib.pyplot as plt\n",
    "import seaborn as sns\n",
    "\n",
    "# Bibliotecas de Machine Learning\n",
    "from sklearn.model_selection import train_test_split\n",
    "from sklearn.linear_model import LogisticRegression\n",
    "from sklearn.metrics import accuracy_score, classification_report, confusion_matrix\n",
    "\n",
    "# Configuración para gráficos\n",
    "plt.style.use('seaborn-v0_8-whitegrid')\n",
    "sns.set(font_scale=1.2)\n",
    "%matplotlib inline"
   ]
  },
  {
   "cell_type": "markdown",
   "metadata": {},
   "source": [
    "## 🌺 Cargamos el dataset Iris\n",
    "\n",
    "El dataset Iris contiene medidas de 3 especies diferentes de flores iris:\n",
    "- **Setosa**\n",
    "- **Versicolor**\n",
    "- **Virginica**\n",
    "\n",
    "Para cada flor, tenemos 4 medidas:\n",
    "- Longitud del sépalo (cm)\n",
    "- Ancho del sépalo (cm)\n",
    "- Longitud del pétalo (cm)\n",
    "- Ancho del pétalo (cm)"
   ]
  },
  {
   "cell_type": "code",
   "execution_count": null,
   "metadata": {},
   "source": [
    "# Cargamos el dataset de Iris desde seaborn\n",
    "iris = sns.load_dataset(\"iris\")\n",
    "\n",
    "# Veamos las primeras filas\n",
    "iris.head()"
   ]
  },
  {
   "cell_type": "code",
   "execution_count": null,
   "metadata": {},
   "source": [
    "# Información básica del dataset\n",
    "print(f\"Forma del dataset: {iris.shape}\")\n",
    "print(f\"Número de clases: {len(iris['species'].unique())}\")\n",
    "print(f\"Clases: {iris['species'].unique()}\")\n",
    "\n",
    "# Estadísticas descriptivas\n",
    "iris.describe()"
   ]
  },
  {
   "cell_type": "markdown",
   "metadata": {},
   "source": [
    "## 📊 Visualización de Datos\n",
    "\n",
    "La visualización nos ayuda a entender la estructura de los datos y cómo se relacionan las diferentes características."
   ]
  },
  {
   "cell_type": "code",
   "execution_count": null,
   "metadata": {},
   "source": [
    "# Visualización de pares de características\n",
    "sns.pairplot(iris, hue=\"species\", height=2.5)\n",
    "plt.suptitle(\"Relaciones entre características por especie\", y=1.02, fontsize=16)\n",
    "plt.show()"
   ]
  },
  {
   "cell_type": "markdown",
   "metadata": {},
   "source": [
    "### 💡 ¿Qué nos muestra el gráfico?\n",
    "\n",
    "- 🌈 Cada color representa una especie de flor\n",
    "- 📈 Cada gráfico muestra la relación entre dos características\n",
    "- 🧩 Podemos ver qué características separan mejor las especies\n",
    "- 🔍 Observamos que la longitud y ancho del pétalo son muy útiles para distinguir especies"
   ]
  },
  {
   "cell_type": "code",
   "execution_count": null,
   "metadata": {},
   "source": [
    "# Gráfico de dispersión para las características más discriminativas\n",
    "plt.figure(figsize=(10, 6))\n",
    "sns.scatterplot(x=\"petal_length\", y=\"petal_width\", hue=\"species\", \n",
    "                s=100, data=iris, palette=\"viridis\")\n",
    "plt.title(\"Longitud vs Ancho del Pétalo por Especie\", fontsize=16)\n",
    "plt.xlabel(\"Longitud del Pétalo (cm)\", fontsize=14)\n",
    "plt.ylabel(\"Ancho del Pétalo (cm)\", fontsize=14)\n",
    "plt.legend(title=\"Especie\", fontsize=12)\n",
    "plt.show()"
   ]
  },
  {
   "cell_type": "markdown",
   "metadata": {},
   "source": [
    "## 🎯 Regresión Logística\n",
    "\n",
    "### ¿Qué es la Regresión Logística?\n",
    "\n",
    "- 🧠 Es un algoritmo de clasificación simple pero poderoso\n",
    "- 📊 Predice la probabilidad de que una observación pertenezca a una categoría\n",
    "- 🔢 Usa una función logística para transformar un valor en una probabilidad (0-1)\n",
    "- 📈 Crea límites de decisión lineales entre clases\n",
    "\n",
    "### Aplicaciones prácticas:\n",
    "\n",
    "- 🏥 **Salud**: Predicción de diagnósticos médicos (¿tiene el paciente la enfermedad?)\n",
    "- 🎓 **Educación**: Predicción de éxito académico (¿aprobará el estudiante?)\n",
    "- 💰 **Finanzas**: Evaluación de riesgo crediticio (¿pagará el cliente su préstamo?)\n",
    "- 📱 **Marketing**: Predicción de conversión (¿comprará el usuario el producto?)"
   ]
  },
  {
   "cell_type": "code",
   "execution_count": null,
   "metadata": {},
   "source": [
    "# Preparamos los datos para el modelo\n",
    "X = iris.drop('species', axis=1)  # Características\n",
    "y = iris['species']               # Variable objetivo\n",
    "\n",
    "# Dividimos en conjuntos de entrenamiento y prueba\n",
    "X_train, X_test, y_train, y_test = train_test_split(X, y, test_size=0.3, random_state=42)"
   ]
  },
  {
   "cell_type": "code",
   "execution_count": null,
   "metadata": {},
   "source": [
    "# Creamos y entrenamos el modelo de regresión logística\n",
    "model = LogisticRegression(max_iter=200)\n",
    "model.fit(X_train, y_train)\n",
    "\n",
    "# Hacemos predicciones\n",
    "y_pred = model.predict(X_test)\n",
    "\n",
    "# Evaluamos el rendimiento\n",
    "accuracy = accuracy_score(y_test, y_pred)\n",
    "print(f\"Precisión del modelo: {accuracy:.2%}\")\n",
    "print(\"\\nInforme de clasificación:\")\n",
    "print(classification_report(y_test, y_pred))"
   ]
  },
  {
   "cell_type": "markdown",
   "metadata": {},
   "source": [
    "## 🔍 Visualización de la Frontera de Decisión\n",
    "\n",
    "Para visualizar cómo el modelo separa las clases, creamos una frontera de decisión usando las dos características más importantes."
   ]
  },
  {
   "cell_type": "code",
   "execution_count": null,
   "metadata": {},
   "source": [
    "# Función para visualizar la frontera de decisión\n",
    "def plot_decision_boundary(model, X, y, features):\n",
    "    # Seleccionamos las dos características\n",
    "    X_features = X[features]\n",
    "    \n",
    "    # Creamos una malla para visualizar la frontera\n",
    "    x_min, x_max = X_features.iloc[:, 0].min() - 0.5, X_features.iloc[:, 0].max() + 0.5\n",
    "    y_min, y_max = X_features.iloc[:, 1].min() - 0.5, X_features.iloc[:, 1].max() + 0.5\n",
    "    xx, yy = np.meshgrid(np.arange(x_min, x_max, 0.02),\n",
    "                         np.arange(y_min, y_max, 0.02))\n",
    "    \n",
    "    # Entrenamos un nuevo modelo solo con estas características\n",
    "    model_2d = LogisticRegression(max_iter=200)\n",
    "    model_2d.fit(X_features, y)\n",
    "    \n",
    "    # Predecimos en cada punto de la malla\n",
    "    Z = model_2d.predict(np.c_[xx.ravel(), yy.ravel()])\n",
    "    Z = Z.reshape(xx.shape)\n",
    "    \n",
    "    # Creamos el gráfico\n",
    "    plt.figure(figsize=(12, 8))\n",
    "    plt.contourf(xx, yy, Z, alpha=0.3, cmap='viridis')\n",
    "    \n",
    "    # Graficamos los puntos de datos reales\n",
    "    scatter = plt.scatter(X_features.iloc[:, 0], X_features.iloc[:, 1], c=y.map({'setosa': 0, 'versicolor': 1, 'virginica': 2}), \n",
    "                         s=100, edgecolor='k', cmap='viridis')\n",
    "    \n",
    "    plt.xlabel(features[0], fontsize=15)\n",
    "    plt.ylabel(features[1], fontsize=15)\n",
    "    plt.title(f'Frontera de Decisión con {features[0]} y {features[1]}', fontsize=18)\n",
    "    plt.colorbar(scatter, ticks=[0, 1, 2], label='Especie')\n",
    "    plt.tight_layout()\n",
    "    plt.show()"
   ]
  },
  {
   "cell_type": "code",
   "execution_count": null,
   "metadata": {},
   "source": [
    "# Visualizamos la frontera de decisión para longitud y ancho del pétalo\n",
    "plot_decision_boundary(model, iris, iris['species'], ['petal_length', 'petal_width'])"
   ]
  },
  {
   "cell_type": "markdown",
   "metadata": {},
   "source": [
    "## 💼 Roles en Proyectos de IA\n",
    "\n",
    "### 🧑‍💻 Rol del Data Analyst\n",
    "- **Exploración de datos**: Entender las características y distribuciones\n",
    "- **Visualización**: Crear gráficos que muestren patrones e insights\n",
    "- **Comunicación**: Traducir hallazgos técnicos a lenguaje de negocio\n",
    "- **Herramientas**: Excel, Tableau, Power BI, SQL, Python básico\n",
    "\n",
    "### 👩‍🔬 Rol del Data Scientist\n",
    "- **Construcción de modelos**: Seleccionar y entrenar algoritmos\n",
    "- **Validación**: Evaluar y mejorar el rendimiento de los modelos\n",
    "- **Implementación**: Convertir modelos en soluciones utilizables\n",
    "- **Herramientas**: Python/R avanzado, bibliotecas de ML, estadística"
   ]
  },
  {
   "cell_type": "markdown",
   "metadata": {},
   "source": [
    "## 🚀 Integración con Dashboards\n",
    "\n",
    "Este modelo podría integrarse en un dashboard para clasificar nuevas flores en tiempo real:"
   ]
  },
  {
   "cell_type": "code",
   "execution_count": null,
   "metadata": {},
   "source": [
    "# Ejemplo básico de cómo se usaría con Streamlit\n",
    "# (No ejecutar, solo para ilustración)\n",
    "\n",
    "'''\n",
    "import streamlit as st\n",
    "\n",
    "st.title(\"Clasificador de Flores Iris\")\n",
    "\n",
    "# Widgets para ingresar medidas\n",
    "sepal_length = st.slider(\"Longitud del Sépalo (cm)\", 4.0, 8.0, 5.8)\n",
    "sepal_width = st.slider(\"Ancho del Sépalo (cm)\", 2.0, 4.5, 3.0)\n",
    "petal_length = st.slider(\"Longitud del Pétalo (cm)\", 1.0, 7.0, 4.0)\n",
    "petal_width = st.slider(\"Ancho del Pétalo (cm)\", 0.1, 2.5, 1.3)\n",
    "\n",
    "# Botón para clasificar\n",
    "if st.button(\"Clasificar Flor\"):\n",
    "    # Crear un array con las características\n",
    "    features = [[sepal_length, sepal_width, petal_length, petal_width]]\n",
    "    \n",
    "    # Hacer la predicción\n",
    "    prediction = model.predict(features)[0]\n",
    "    probability = model.predict_proba(features)[0]\n",
    "    \n",
    "    # Mostrar el resultado\n",
    "    st.success(f\"La flor es probablemente una **{prediction}**\")\n",
    "    \n",
    "    # Mostrar probabilidades\n",
    "    st.write(\"Probabilidades por clase:\")\n",
    "    prob_df = pd.DataFrame({\n",
    "        'Especie': model.classes_,\n",
    "        'Probabilidad': probability\n",
    "    })\n",
    "    st.bar_chart(prob_df.set_index('Especie'))\n",
    "'''"
   ]
  },
  {
   "cell_type": "markdown",
   "metadata": {},
   "source": [
    "## 🌟 Conclusión\n",
    "\n",
    "- ✅ Hemos aprendido sobre la regresión logística, un modelo clásico de IA\n",
    "- 📊 Visualizamos datos y fronteras de decisión para entender el modelo\n",
    "- 💼 Entendimos los diferentes roles en proyectos de datos\n",
    "- 🚀 Vimos cómo estos modelos pueden integrarse en aplicaciones prácticas\n",
    "\n",
    "### Próximos pasos:\n",
    "- Explora otros modelos como árboles de decisión o random forests\n",
    "- Prueba con otros conjuntos de datos más complejos\n",
    "- Implementa un dashboard real con Streamlit o Dash"
   ]
  }
 ],
 "metadata": {
  "kernelspec": {
   "display_name": "Python 3",
   "language": "python",
   "name": "python3"
  },
  "language_info": {
   "codemirror_mode": {
    "name": "ipython",
    "version": 3
   },
   "file_extension": ".py",
   "mimetype": "text/x-python",
   "name": "python",
   "nbconvert_exporter": "python",
   "pygments_lexer": "ipython3",
   "version": "3.8.10"
  }
 },
 "nbformat": 4,
 "nbformat_minor": 4
}