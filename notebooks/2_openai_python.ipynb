{
 "cells": [
  {
   "cell_type": "markdown",
   "metadata": {},
   "source": [
    "# 🤖 Uso de OpenAI desde Python\n",
    "\n",
    "Este notebook muestra cómo conectarse a la API de OpenAI y realizar peticiones a sus modelos de IA desde Python.\n",
    "\n",
    "## ¿Qué aprenderás?\n",
    "- 🔌 Conectar con la API de OpenAI\n",
    "- 🔑 Proteger tus credenciales con variables de entorno\n",
    "- 📝 Realizar peticiones básicas a modelos como GPT-4\n",
    "- ⚙️ Configurar parámetros para ajustar las respuestas"
   ]
  },
  {
   "cell_type": "markdown",
   "metadata": {},
   "source": [
    "## 📚 Importamos las bibliotecas necesarias"
   ]
  },
  {
   "cell_type": "code",
   "execution_count": null,
   "metadata": {},
   "outputs": [],
   "source": [
    "# Instalamos las bibliotecas necesarias (descomenta si es necesario)\n",
    "# !pip install openai python-dotenv"
   ]
  },
  {
   "cell_type": "code",
   "execution_count": 1,
   "metadata": {},
   "outputs": [],
   "source": [
    "# Importamos las bibliotecas\n",
    "import openai      # Biblioteca oficial de OpenAI\n",
    "import os          # Para acceder a variables de entorno\n",
    "from dotenv import load_dotenv  # Para cargar variables desde .env"
   ]
  },
  {
   "cell_type": "markdown",
   "metadata": {},
   "source": [
    "## 🔑 Configuración de Credenciales\n",
    "\n",
    "### ¿Por qué proteger tus credenciales?\n",
    "\n",
    "- 🔒 **Seguridad**: Evita exponer tu API key en el código\n",
    "- 💰 **Costos**: Previene uso no autorizado que podría generar gastos\n",
    "- 🧰 **Portabilidad**: Facilita compartir código sin exponer información sensible\n"
   ]
  },
  {
   "cell_type": "code",
   "execution_count": null,
   "metadata": {},
   "outputs": [
    {
     "name": "stdout",
     "output_type": "stream",
     "text": [
      "✅ API key cargada correctamente.\n"
     ]
    }
   ],
   "source": [
    "# Cargamos las variables de entorno desde el archivo .env\n",
    "load_dotenv(dotenv_path='.env')\n",
    "\n",
    "# Obtenemos la API key desde las variables de entorno\n",
    "api_key = os.getenv(\"OPENAI_API_KEY\")\n",
    "\n",
    "# Verificamos que la API key esté disponible\n",
    "if api_key is None or api_key == \"tu_api_key_aqui\":\n",
    "    print(\"⚠️ ERROR: API key no configurada correctamente.\")\n",
    "    print(\"Por favor, crea un archivo .env con tu OPENAI_API_KEY.\")\n",
    "else:\n",
    "    print(\"✅ API key cargada correctamente.\")\n",
    "    # Configuramos la biblioteca con la API key\n",
    "    openai.api_key = api_key"
   ]
  },
  {
   "cell_type": "markdown",
   "metadata": {},
   "source": [
    "## 🤖 Modelos Disponibles\n",
    "\n",
    "OpenAI ofrece diferentes modelos con distintas capacidades y costos:\n",
    "\n",
    "- **GPT-4 Turbo** (`gpt-4-turbo`): El modelo más avanzado, ideal para tareas complejas\n",
    "- **GPT-3.5 Turbo** (`gpt-3.5-turbo`): Buen equilibrio entre capacidad y costo\n",
    "- **GPT-4o** (`gpt-4o`): Modelo que combina texto e imágenes \n",
    "\n",
    "Para ver todos los modelos disponibles y sus capacidades, puedes consultar la [documentación oficial](https://platform.openai.com/docs/models)."
   ]
  },
  {
   "cell_type": "markdown",
   "metadata": {},
   "source": [
    "## 📝 Ejemplo Básico: Generación de Texto\n",
    "\n",
    "Veamos cómo hacer una petición simple para generar texto:"
   ]
  },
  {
   "cell_type": "code",
   "execution_count": 9,
   "metadata": {},
   "outputs": [],
   "source": [
    "# Función para hacer una petición básica a la API de OpenAI\n",
    "def generar_texto(prompt, modelo=\"gpt-3.5-turbo\", temperatura=0.7, max_tokens=150):\n",
    "    \"\"\"Función para generar texto usando la API de OpenAI\n",
    "    \n",
    "    Args:\n",
    "        prompt (str): El texto de entrada para el modelo\n",
    "        modelo (str): El modelo a utilizar\n",
    "        temperatura (float): Controla la creatividad (0.0 a 1.0)\n",
    "        max_tokens (int): Longitud máxima de la respuesta\n",
    "        \n",
    "    Returns:\n",
    "        str: El texto generado por el modelo\n",
    "    \"\"\"\n",
    "    try:\n",
    "        # Creamos la petición al API\n",
    "        response = openai.chat.completions.create(\n",
    "            model=modelo,                    # Modelo a utilizar\n",
    "            messages=[\n",
    "                {\"role\": \"user\", \"content\": prompt}  # Mensaje del usuario\n",
    "            ],\n",
    "            temperature=temperatura,         # Nivel de creatividad\n",
    "            max_tokens=max_tokens           # Longitud máxima\n",
    "        )\n",
    "        \n",
    "        # Extraemos y devolvemos el texto generado\n",
    "        return response.choices[0].message.content\n",
    "    \n",
    "    except Exception as e:\n",
    "        return f\"Error al generar texto: {str(e)}\""
   ]
  },
  {
   "cell_type": "code",
   "execution_count": 10,
   "metadata": {},
   "outputs": [
    {
     "name": "stdout",
     "output_type": "stream",
     "text": [
      "📝 Prompt:\n",
      "Explica qué es la inteligencia artificial en 3 frases simples.\n",
      "\n",
      "🤖 Respuesta:\n",
      "Error al generar texto: Error code: 401 - {'error': {'message': 'Incorrect API key provided: OPENAI_A***********************************************************************************************************************************************************************dj4A. You can find your API key at https://platform.openai.com/account/api-keys.', 'type': 'invalid_request_error', 'param': None, 'code': 'invalid_api_key'}}\n"
     ]
    }
   ],
   "source": [
    "# Probamos la función con un prompt simple\n",
    "prompt = \"Explica qué es la inteligencia artificial en 3 frases simples.\"\n",
    "\n",
    "# Generamos el texto\n",
    "respuesta = generar_texto(prompt)\n",
    "\n",
    "# Mostramos el resultado\n",
    "print(\"📝 Prompt:\")\n",
    "print(prompt)\n",
    "print(\"\\n🤖 Respuesta:\")\n",
    "print(respuesta)"
   ]
  },
  {
   "cell_type": "markdown",
   "metadata": {},
   "source": [
    "## ⚙️ Ajustando los Parámetros\n",
    "\n",
    "Los parámetros nos permiten controlar cómo responde el modelo. Veamos los más importantes:\n",
    "\n",
    "### 🌡️ Temperatura\n",
    "- Controla la **creatividad** y **aleatoriedad** de las respuestas\n",
    "- Rango: 0.0 a 1.0\n",
    "- 🧊 **Temperatura baja** (0.2): Respuestas más deterministas y consistentes\n",
    "- 🔥 **Temperatura alta** (0.8): Respuestas más creativas y variadas\n",
    "\n",
    "### 📏 Max Tokens\n",
    "- Define la **longitud máxima** de la respuesta\n",
    "- 1 token ≈ 4 caracteres o 3/4 de palabra en español\n",
    "- Ejemplo: 150 tokens ≈ 100-120 palabras\n",
    "\n",
    "Veamos cómo afectan estos parámetros a las respuestas:"
   ]
  },
  {
   "cell_type": "code",
   "execution_count": null,
   "metadata": {},
   "outputs": [],
   "source": [
    "# Prompt para el experimento\n",
    "prompt = \"Dame ideas para un regalo de cumpleaños para alguien que ama cocinar.\"\n",
    "\n",
    "# Generamos respuestas con diferentes temperaturas\n",
    "print(\"🧊 TEMPERATURA BAJA (0.2) - Respuestas más predecibles:\")\n",
    "print(generar_texto(prompt, temperatura=0.2))\n",
    "print(\"\\n🔥 TEMPERATURA ALTA (0.9) - Respuestas más creativas:\")\n",
    "print(generar_texto(prompt, temperatura=0.9))"
   ]
  },
  {
   "cell_type": "code",
   "execution_count": null,
   "metadata": {},
   "outputs": [],
   "source": [
    "# Probamos con diferentes longitudes\n",
    "print(\"📏 RESPUESTA CORTA (50 tokens):\")\n",
    "print(generar_texto(prompt, max_tokens=50))\n",
    "print(\"\\n📜 RESPUESTA LARGA (250 tokens):\")\n",
    "print(generar_texto(prompt, max_tokens=250))"
   ]
  },
  {
   "cell_type": "markdown",
   "metadata": {},
   "source": [
    "## 🛠️ Caso Práctico: Asistente de Análisis de Texto\n",
    "\n",
    "Creemos un ejemplo simple de cómo podríamos usar la API para analizar un texto:"
   ]
  },
  {
   "cell_type": "code",
   "execution_count": null,
   "metadata": {},
   "outputs": [],
   "source": [
    "def analizar_texto(texto, tipo_analisis=\"general\"):\n",
    "    \"\"\"Analiza un texto usando la API de OpenAI\n",
    "    \n",
    "    Args:\n",
    "        texto (str): El texto a analizar\n",
    "        tipo_analisis (str): Tipo de análisis (general, sentimiento, resumen)\n",
    "        \n",
    "    Returns:\n",
    "        str: El análisis generado\n",
    "    \"\"\"\n",
    "    # Configuramos el prompt según el tipo de análisis\n",
    "    if tipo_analisis == \"sentimiento\":\n",
    "        instruccion = \"Analiza el sentimiento del siguiente texto. Indica si es positivo, negativo o neutral y explica por qué en una frase:\"\n",
    "        temperatura = 0.3  # Más consistente para análisis\n",
    "    elif tipo_analisis == \"resumen\":\n",
    "        instruccion = \"Resume el siguiente texto en 2-3 frases manteniendo los puntos clave:\"\n",
    "        temperatura = 0.5\n",
    "    else:  # análisis general\n",
    "        instruccion = \"Analiza el siguiente texto. Identifica temas principales, tono y público objetivo en formato de lista:\"\n",
    "        temperatura = 0.7\n",
    "    \n",
    "    # Creamos la conversación\n",
    "    mensajes = [\n",
    "        {\"role\": \"system\", \"content\": \"Eres un experto en análisis de texto que proporciona insights claros y concisos.\"},\n",
    "        {\"role\": \"user\", \"content\": f\"{instruccion}\\n\\n{texto}\"}\n",
    "    ]\n",
    "    \n",
    "    # Obtenemos y devolvemos el análisis\n",
    "    return chat_con_gpt(mensajes, temperatura=temperatura)"
   ]
  },
  {
   "cell_type": "code",
   "execution_count": null,
   "metadata": {},
   "outputs": [],
   "source": [
    "# Texto de ejemplo para analizar\n",
    "texto_ejemplo = \"\"\"\n",
    "Nuestra nueva línea de productos ecológicos ha superado todas las expectativas de ventas \n",
    "del primer trimestre. Los clientes valoran especialmente el compromiso con la sostenibilidad \n",
    "y la reducción de plásticos en los envases. Las reseñas en línea muestran una satisfacción \n",
    "del 92%, aunque algunos usuarios han señalado que el precio es ligeramente superior a \n",
    "alternativas convencionales. Recomendamos expandir la línea con 3 nuevos productos \n",
    "antes del próximo periodo de vacaciones.\n",
    "\"\"\"\n",
    "\n",
    "# Realizamos diferentes tipos de análisis\n",
    "print(\"🔍 ANÁLISIS GENERAL:\")\n",
    "print(analizar_texto(texto_ejemplo, \"general\"))\n",
    "print(\"\\n❤️ ANÁLISIS DE SENTIMIENTO:\")\n",
    "print(analizar_texto(texto_ejemplo, \"sentimiento\"))\n",
    "print(\"\\n📝 RESUMEN:\")\n",
    "print(analizar_texto(texto_ejemplo, \"resumen\"))"
   ]
  },
  {
   "cell_type": "markdown",
   "metadata": {},
   "source": [
    "## 🌟 Conclusión\n",
    "\n",
    "En este notebook hemos aprendido:\n",
    "\n",
    "- ✅ Cómo conectarnos a la API de OpenAI desde Python\n",
    "- 🔑 La importancia de proteger nuestras credenciales\n",
    "- ⚙️ Cómo ajustar parámetros como temperatura y longitud\n",
    "- 💬 Cómo trabajar con conversaciones en formato chat\n",
    "- 🛠️ Un caso práctico de análisis de texto\n",
    "\n",
    "### Próximos pasos:\n",
    "- Explorar modelos más avanzados como GPT-4\n",
    "- Integrar estos análisis en flujos de trabajo de datos\n",
    "- Combinar con herramientas de visualización para crear dashboards interactivos"
   ]
  }
 ],
 "metadata": {
  "kernelspec": {
   "display_name": "Python 3",
   "language": "python",
   "name": "python3"
  },
  "language_info": {
   "codemirror_mode": {
    "name": "ipython",
    "version": 3
   },
   "file_extension": ".py",
   "mimetype": "text/x-python",
   "name": "python",
   "nbconvert_exporter": "python",
   "pygments_lexer": "ipython3",
   "version": "3.11.9"
  }
 },
 "nbformat": 4,
 "nbformat_minor": 4
}
